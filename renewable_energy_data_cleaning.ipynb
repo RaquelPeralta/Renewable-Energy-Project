{
 "cells": [
  {
   "cell_type": "code",
   "execution_count": null,
   "metadata": {},
   "outputs": [],
   "source": []
  },
  {
   "attachments": {},
   "cell_type": "markdown",
   "metadata": {},
   "source": [
    "# Setting up the environment "
   ]
  },
  {
   "cell_type": "code",
   "execution_count": 9,
   "metadata": {},
   "outputs": [],
   "source": [
    "import pandas as pd"
   ]
  },
  {
   "attachments": {},
   "cell_type": "markdown",
   "metadata": {},
   "source": [
    "# Import consumption files\n"
   ]
  },
  {
   "cell_type": "code",
   "execution_count": 37,
   "metadata": {},
   "outputs": [
    {
     "data": {
      "text/html": [
       "<div>\n",
       "<style scoped>\n",
       "    .dataframe tbody tr th:only-of-type {\n",
       "        vertical-align: middle;\n",
       "    }\n",
       "\n",
       "    .dataframe tbody tr th {\n",
       "        vertical-align: top;\n",
       "    }\n",
       "\n",
       "    .dataframe thead th {\n",
       "        text-align: right;\n",
       "    }\n",
       "</style>\n",
       "<table border=\"1\" class=\"dataframe\">\n",
       "  <thead>\n",
       "    <tr style=\"text-align: right;\">\n",
       "      <th></th>\n",
       "      <th>energy_product</th>\n",
       "      <th>country</th>\n",
       "      <th>year</th>\n",
       "      <th>production</th>\n",
       "    </tr>\n",
       "  </thead>\n",
       "  <tbody>\n",
       "    <tr>\n",
       "      <th>0</th>\n",
       "      <td>Solid fuels</td>\n",
       "      <td>DE - Germany</td>\n",
       "      <td>1990</td>\n",
       "      <td>121689.2</td>\n",
       "    </tr>\n",
       "    <tr>\n",
       "      <th>1</th>\n",
       "      <td>Solid fuels</td>\n",
       "      <td>DE - Germany</td>\n",
       "      <td>1991</td>\n",
       "      <td>106085.5</td>\n",
       "    </tr>\n",
       "    <tr>\n",
       "      <th>2</th>\n",
       "      <td>Solid fuels</td>\n",
       "      <td>DE - Germany</td>\n",
       "      <td>1992</td>\n",
       "      <td>97596.0</td>\n",
       "    </tr>\n",
       "    <tr>\n",
       "      <th>3</th>\n",
       "      <td>Solid fuels</td>\n",
       "      <td>DE - Germany</td>\n",
       "      <td>1993</td>\n",
       "      <td>87729.1</td>\n",
       "    </tr>\n",
       "    <tr>\n",
       "      <th>4</th>\n",
       "      <td>Solid fuels</td>\n",
       "      <td>DE - Germany</td>\n",
       "      <td>1994</td>\n",
       "      <td>80909.0</td>\n",
       "    </tr>\n",
       "    <tr>\n",
       "      <th>...</th>\n",
       "      <td>...</td>\n",
       "      <td>...</td>\n",
       "      <td>...</td>\n",
       "      <td>...</td>\n",
       "    </tr>\n",
       "    <tr>\n",
       "      <th>4635</th>\n",
       "      <td>Renewable energies</td>\n",
       "      <td>UK - United Kingdom</td>\n",
       "      <td>2017</td>\n",
       "      <td>15450.0</td>\n",
       "    </tr>\n",
       "    <tr>\n",
       "      <th>4636</th>\n",
       "      <td>Renewable energies</td>\n",
       "      <td>UK - United Kingdom</td>\n",
       "      <td>2018</td>\n",
       "      <td>16807.0</td>\n",
       "    </tr>\n",
       "    <tr>\n",
       "      <th>4637</th>\n",
       "      <td>Renewable energies</td>\n",
       "      <td>UK - United Kingdom</td>\n",
       "      <td>2019</td>\n",
       "      <td>17526.0</td>\n",
       "    </tr>\n",
       "    <tr>\n",
       "      <th>4638</th>\n",
       "      <td>Renewable energies</td>\n",
       "      <td>UK - United Kingdom</td>\n",
       "      <td>2020</td>\n",
       "      <td>0.0</td>\n",
       "    </tr>\n",
       "    <tr>\n",
       "      <th>4639</th>\n",
       "      <td>Renewable energies</td>\n",
       "      <td>UK - United Kingdom</td>\n",
       "      <td>2021</td>\n",
       "      <td>0.0</td>\n",
       "    </tr>\n",
       "  </tbody>\n",
       "</table>\n",
       "<p>4640 rows × 4 columns</p>\n",
       "</div>"
      ],
      "text/plain": [
       "          energy_product              country  year  production\n",
       "0            Solid fuels         DE - Germany  1990    121689.2\n",
       "1            Solid fuels         DE - Germany  1991    106085.5\n",
       "2            Solid fuels         DE - Germany  1992     97596.0\n",
       "3            Solid fuels         DE - Germany  1993     87729.1\n",
       "4            Solid fuels         DE - Germany  1994     80909.0\n",
       "...                  ...                  ...   ...         ...\n",
       "4635  Renewable energies  UK - United Kingdom  2017     15450.0\n",
       "4636  Renewable energies  UK - United Kingdom  2018     16807.0\n",
       "4637  Renewable energies  UK - United Kingdom  2019     17526.0\n",
       "4638  Renewable energies  UK - United Kingdom  2020         0.0\n",
       "4639  Renewable energies  UK - United Kingdom  2021         0.0\n",
       "\n",
       "[4640 rows x 4 columns]"
      ]
     },
     "execution_count": 37,
     "metadata": {},
     "output_type": "execute_result"
    }
   ],
   "source": [
    "file_path = \"C:\\\\Users\\\\raque\\Documents\\\\Data Analytics\\\\Renewable Energy Project\\\\data\\\\PORDATA_Production-by-energy-product.xlsx\"\n",
    "file_sheet_name = \"Table1\"\n",
    "\n",
    "df_production = pd.read_excel(file_path, sheet_name = file_sheet_name)\n",
    "\n",
    "df_production"
   ]
  },
  {
   "cell_type": "markdown",
   "metadata": {},
   "source": []
  },
  {
   "cell_type": "code",
   "execution_count": null,
   "metadata": {},
   "outputs": [],
   "source": []
  }
 ],
 "metadata": {
  "kernelspec": {
   "display_name": "base",
   "language": "python",
   "name": "python3"
  },
  "language_info": {
   "codemirror_mode": {
    "name": "ipython",
    "version": 3
   },
   "file_extension": ".py",
   "mimetype": "text/x-python",
   "name": "python",
   "nbconvert_exporter": "python",
   "pygments_lexer": "ipython3",
   "version": "3.9.13"
  },
  "orig_nbformat": 4,
  "vscode": {
   "interpreter": {
    "hash": "4be45cf80e2c3985c3c462608cc2c55e6280d0a3f028f45eb175b0aab3829431"
   }
  }
 },
 "nbformat": 4,
 "nbformat_minor": 2
}
